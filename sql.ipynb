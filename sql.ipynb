{
 "cells": [
  {
   "cell_type": "markdown",
   "id": "77c9ac2d",
   "metadata": {},
   "source": [
    "A database is an organized collection of data, so that it can be easily accessed and managed. SQL is the query structure language means data in tabular form or row or column format.\n",
    "NoSQL is Not only structural query language  are non-tabular databases and store data differently than relational tables. NoSQL databases come in a variety of types based on their data model. "
   ]
  },
  {
   "cell_type": "markdown",
   "id": "f670b7d8",
   "metadata": {},
   "source": [
    "q2 What is DDL? Explain why CREATE, DROP, ALTER, and TRUNCATE are used with an example.\n",
    "ans. DDL is the Data defination language which used to define the database in the sql. \n",
    "Create is used to create the table and database.\n",
    "Example create database dharm;\n",
    "DROP is  used to delete a table, database or  column in an existing table.\n",
    "DROP table test\n",
    "ALTER TABLE test\n",
    "DROP COLUMN c4;\n",
    "ALTER is used to  adds and deletes various constraints in a table.\n",
    "TRUNCATE TABLE command deletes the data inside a table, but not the table itself.\n",
    "TRUNCATE TABLE test;"
   ]
  },
  {
   "cell_type": "markdown",
   "id": "360da990",
   "metadata": {},
   "source": [
    "Q3. What is DML? Explain INSERT, UPDATE, and DELETE with an example.\n",
    "DML means data manipulation language which deals with data manipulation and includes most common SQL statements such SELECT, INSERT, UPDATE, DELETE, etc., and it is used to store, modify, retrieve, delete and update data in a database.\n",
    "\n",
    "SELECT - retrieve data from a database\n",
    "INSERT - insert data into a table\n",
    "UPDATE - updates existing data within a table\n",
    "DELETE - Delete all records from a database table \n",
    "\n",
    "select * from the test;\n",
    "insert into table values(12, \"dharm\", 23.2,25,\"yadav\");\n",
    "UPDATE Customers\n",
    "SET Name = 'Dharm'\n",
    "WHERE ID = 1;\n",
    "DELETE FROM test WHERE Name='dharm';"
   ]
  },
  {
   "cell_type": "markdown",
   "id": "67ce3f54",
   "metadata": {},
   "source": [
    "What is DQL? Explain SELECT with an example.\n",
    "DQL is data query language which perfom the query operation on the database or table.\n",
    "select is used to retrive the data from the database;\n",
    "select & from the test;"
   ]
  },
  {
   "cell_type": "markdown",
   "id": "1f0487f0",
   "metadata": {},
   "source": [
    "Explain Primary Key and Foreign Key.\n",
    "A primary key is a field in a table which uniquely identifies each row/record in a database table. Primary keys must contain unique values.\n",
    "A foreign key is a key used to link two tables together. This is sometimes also called as a referencing key."
   ]
  },
  {
   "cell_type": "code",
   "execution_count": null,
   "id": "db97129f",
   "metadata": {},
   "outputs": [],
   "source": [
    "Write a python code to connect MySQL to python. Explain the cursor() and execute() method.\n",
    "cursor() cursor is an object that enables traversal over the rows of a result set. \n",
    "It allows you to process individual row returned by a query. First, declare a cursor. \n",
    "To declare a cursor, you specify its name after the DECLARE keyword with the CURSOR data type and provide a SELECT statement\n",
    "that defines the result set for the cursor.\n",
    "\n",
    "execute() is used to excute the command or procedure store in the excute()."
   ]
  },
  {
   "cell_type": "code",
   "execution_count": null,
   "id": "8b5ca8e0",
   "metadata": {},
   "outputs": [],
   "source": [
    "import mysql.connector\n",
    "mydb = mysql.connector.connect(\n",
    "  host=\"localhost\",\n",
    "  user=\"abc\",\n",
    "  password=\"password\"\n",
    ")\n",
    "print(mydb)\n",
    "mycursor = mydb.cursor()\n",
    "\n",
    "mycursor.execute(\"insert into test.test34 values(1223, 'Dharm', 23.02, 564, 'Yadav')\")\n",
    "mydb.commit()\n",
    "mydb.close()"
   ]
  },
  {
   "cell_type": "code",
   "execution_count": null,
   "id": "09ede528",
   "metadata": {},
   "outputs": [],
   "source": [
    "Give the order of execution of SQL clauses in an SQL query.\n",
    "ans. The SQL query execution order is the order of clauses to execute while sorting our data. \n",
    "We execute the From / Join clause first to join our tables and can also create some temporary tables.\n",
    "We use the WHERE clause after the tables are joined to set up the working dataset and filter the data according to the \n",
    "conditions given in the query.\n",
    "Simple order of sql is as follow \n",
    "1.FROM clause\n",
    "2 ON clause\n",
    "3 OUTER clause\n",
    "4 WHERE clause\n",
    "5 GROUP BY clause\n",
    "6 HAVING clause\n",
    "7 SELECT clause\n",
    "8 DISTINCT clause\n",
    "9 ORDER BY clause\n",
    "10 TOP clause"
   ]
  }
 ],
 "metadata": {
  "kernelspec": {
   "display_name": "Python 3 (ipykernel)",
   "language": "python",
   "name": "python3"
  },
  "language_info": {
   "codemirror_mode": {
    "name": "ipython",
    "version": 3
   },
   "file_extension": ".py",
   "mimetype": "text/x-python",
   "name": "python",
   "nbconvert_exporter": "python",
   "pygments_lexer": "ipython3",
   "version": "3.9.13"
  }
 },
 "nbformat": 4,
 "nbformat_minor": 5
}
